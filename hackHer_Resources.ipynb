{
  "nbformat": 4,
  "nbformat_minor": 0,
  "metadata": {
    "colab": {
      "name": "hackHer - Resources.ipynb",
      "provenance": [],
      "collapsed_sections": [],
      "toc_visible": true,
      "authorship_tag": "ABX9TyO7+4KRBVtAimeVRqwYqmBS",
      "include_colab_link": true
    },
    "kernelspec": {
      "name": "python3",
      "display_name": "Python 3"
    }
  },
  "cells": [
    {
      "cell_type": "markdown",
      "metadata": {
        "id": "view-in-github",
        "colab_type": "text"
      },
      "source": [
        "<a href=\"https://colab.research.google.com/github/camizqu/hackHer/blob/main/hackHer_Resources.ipynb\" target=\"_parent\"><img src=\"https://colab.research.google.com/assets/colab-badge.svg\" alt=\"Open In Colab\"/></a>"
      ]
    },
    {
      "cell_type": "markdown",
      "metadata": {
        "id": "KD5ykuEvlHcv"
      },
      "source": [
        "# Resources Page\n",
        "This page has a News section, where headlines are displayed from authors around the world, specific to COVID-19.\n",
        "\n",
        "The other function of this page is a Nearby Hospitals feature which uses a Google Places API to show all hospitals within a 500 km radius of the user's latitude and longitude."
      ]
    },
    {
      "cell_type": "code",
      "metadata": {
        "id": "NWXvceB-Gz7m",
        "outputId": "33295806-7209-4d53-ed62-b8aeb97dbd72",
        "colab": {
          "base_uri": "https://localhost:8080/"
        }
      },
      "source": [
        "# resources page - news api (from newscast) focused on COVID-19 headlines\n",
        "\n",
        "import requests\n",
        "url = ('http://newsapi.org/v2/everything?'\n",
        "       'q=COVID-19&'\n",
        "       'from = now()'\n",
        "       'sortBy=popularity&'\n",
        "       'apiKey=')\n",
        "response = requests.get(url)\n",
        "print (response.json())"
      ],
      "execution_count": null,
      "outputs": [
        {
          "output_type": "stream",
          "text": [
            "{'status': 'ok', 'totalResults': 442571, 'articles': [{'source': {'id': 'engadget', 'name': 'Engadget'}, 'author': 'Jon Fingas', 'title': 'Nasal spray might prevent COVID-19 infections', 'description': 'Many hopes for a return to a semi-normal life after COVID-19 revolve around vaccines, but those injections have limits — they’re harder to deploy in low-income and rural areas where there’s no guarantee of easy distribution. Science may offer a more accessibl…', 'url': 'https://www.engadget.com/nasal-spray-prevents-covid-19-infections-204611720.html', 'urlToImage': 'https://o.aolcdn.com/images/dims?resize=1200%2C630&crop=1200%2C630%2C0%2C0&quality=95&image_uri=https%3A%2F%2Fs.yimg.com%2Fos%2Fcreatr-uploaded-images%2F2020-11%2F2446cdf0-2137-11eb-9fff-beac278f0fe1&client=amp-blogside-v2&signature=627f8742393dd69c0bb0f7035eef8f7cb914ce23', 'publishedAt': '2020-11-07T20:46:11Z', 'content': 'A spray like this is still some ways from reaching the public. There would need to be human clinical trials, not to mention large-scale production to provide enough access. Scientists are planning to… [+533 chars]'}, {'source': {'id': 'engadget', 'name': 'Engadget'}, 'author': 'Jon Fingas', 'title': 'AI can detect COVID-19 by listening to your coughs', 'description': 'It’s easy to be worried when you cough these days — is it COVID-19, or are you just clearing your throat? You might get a clearer answer soon. MIT researchers have developed AI that can recognize forced coughing from people who have COVID-19, even if they’re …', 'url': 'https://www.engadget.com/ai-covid-19-cough-detection-from-recordings-213858299.html', 'urlToImage': 'https://o.aolcdn.com/images/dims?resize=1200%2C630&crop=1200%2C630%2C0%2C0&quality=95&image_uri=https%3A%2F%2Fs.yimg.com%2Fos%2Fcreatr-uploaded-images%2F2020-10%2F8ca8be50-1bbd-11eb-8fff-1478e6a47e60&client=amp-blogside-v2&signature=a1e1ffd01948b8bf735688750e4d3c5ccfaec5be', 'publishedAt': '2020-10-31T21:38:58Z', 'content': 'The AI is highly accurate in early tests. After the team trained its model on tens of thousands of cough and dialog samples, the technology recognized 98.5 percent of coughs from people with confirme… [+806 chars]'}, {'source': {'id': 'engadget', 'name': 'Engadget'}, 'author': 'Mariella Moon', 'title': \"San Francisco and Alameda drop Verily's COVID-19 testing service\", 'description': 'California’s San Francisco and Alameda (home to Oakland) counties are no longer using Verily’s COVID-19 testing system, according to Kaiser Health News. Verily, an Alphabet-owned health-focused company, signed contracts collectively worth $55 million with 28 …', 'url': 'https://www.engadget.com/san-francisco-alameda-verily-covid-19-053108859.html', 'urlToImage': 'https://o.aolcdn.com/images/dims?resize=1200%2C630&crop=1200%2C630%2C0%2C0&quality=95&image_uri=https%3A%2F%2Fs.yimg.com%2Fos%2Fcreatr-images%2F2020-04%2F6640cd90-797c-11ea-bea3-791a4ce94147&client=amp-blogside-v2&signature=9c99094038d33986f4dc398195ca592e53f38ade', 'publishedAt': '2020-10-27T05:31:08Z', 'content': 'The task force also raised concerns about the fact that people have to provide sensitive personal information, including their addresses and whether they have chronic health conditions, when they sig… [+1032 chars]'}, {'source': {'id': 'wired', 'name': 'Wired'}, 'author': 'Matt Simon', 'title': 'What Should You Do About Holiday Gatherings and Covid-19?', 'description': \"Amid the Covid-19 pandemic, there's no perfectly safe way to socialize. But here are some tips on how to talk to your relatives about risk—or opting out.\", 'url': 'https://www.wired.com/story/what-should-you-do-about-holiday-gatherings-and-covid-19/', 'urlToImage': 'https://media.wired.com/photos/5f98a334ed97b6b30c266174/191:100/w_1280,c_limit/Science_TheHolidays_200492045-001.jpg', 'publishedAt': '2020-10-28T11:00:00Z', 'content': 'The strangest, most confusing, most taxing year we Americans have collectively trundled through is about to get even more complicated: We now all have to figure out what to do about the upcoming holi… [+3621 chars]'}, {'source': {'id': 'wired', 'name': 'Wired'}, 'author': 'Katie Day Good', 'title': 'Bundle Up! This Winter’s Best Tech Might Be a Good Coat', 'description': 'In a banner year for digital products, tools made of fabric have become essential for battling Covid-19.', 'url': 'https://www.wired.com/story/cloth-tech-coronavirus/', 'urlToImage': 'https://media.wired.com/photos/5f9cb40fe4fe02a20082e8ae/191:100/w_1280,c_limit/Gear-Pandemic-Holiday-Road-Trip-1187631313.jpg', 'publishedAt': '2020-11-01T12:00:00Z', 'content': 'As the cold sets in here in the Midwest, so do the uncertainties of navigating a new season in the pandemic. My spouse and I had barely made it past the mental gymnastics of back-to-school season and… [+4192 chars]'}, {'source': {'id': 'techcrunch', 'name': 'TechCrunch'}, 'author': 'Devin Coldewey', 'title': 'Tech’s role in the COVID-19 response: Assist, don’t reinvent', 'description': 'The pandemic has affected just about every business in the world, but tech has also geared up to fight back in its own way, as we found out from speakers at Disrupt 2020. But technology has opted to take a back seat to frontline workers and find ways to suppo…', 'url': 'http://techcrunch.com/2020/10/08/techs-role-in-the-covid-19-response-assist-dont-reinvent/', 'urlToImage': 'https://techcrunch.com/wp-content/uploads/2020/09/GettyImages-1250179225.jpg?w=588', 'publishedAt': '2020-10-08T18:49:10Z', 'content': 'The pandemic has affected just about every business in the world, but tech has also geared up to fight back in its own way, as we found out from speakers at Disrupt 2020. But technology has opted to … [+2144 chars]'}, {'source': {'id': 'techcrunch', 'name': 'TechCrunch'}, 'author': 'Walter Thompson', 'title': 'How to address inequality exposed by the COVID-19 pandemic', 'description': 'Having a substantial part of our fellow citizens outside the digital environment is a recipe for continued racial injustice, social conflict, economic deprivation and political division.', 'url': 'http://techcrunch.com/2020/10/27/how-to-address-inequality-exposed-by-the-covid-19-pandemic/', 'urlToImage': 'https://techcrunch.com/wp-content/uploads/2020/06/GettyImages-1186948007.jpg?w=599', 'publishedAt': '2020-10-27T21:26:31Z', 'content': 'The novel coronavirus has accelerated the use of many digital technologies. Forced in the spring to close their doors, most K-12 schools and universities shifted to online learning where teachers lea… [+9845 chars]'}, {'source': {'id': 'techcrunch', 'name': 'TechCrunch'}, 'author': 'Natasha Lomas', 'title': 'TravelPerk launches an API for COVID-19 restrictions', 'description': 'About a month after outting an open API platform for its customers to augment their apps, business trip SaaS startup TravelPerk has launched a standalone API product aimed at helping the wider travel industry provide up-to-date information on travel restricti…', 'url': 'http://techcrunch.com/2020/10/26/travelperk-launches-an-api-for-covid-19-restrictions/', 'urlToImage': 'https://techcrunch.com/wp-content/uploads/2020/09/GettyImages-1250179225.jpg?w=588', 'publishedAt': '2020-10-26T08:00:52Z', 'content': 'About a month after outting an open API platform for its customers to augment their apps, business trip SaaS startup TravelPerk has launched a standalone API product aimed at helping the wider travel… [+5335 chars]'}, {'source': {'id': 'wired', 'name': 'Wired'}, 'author': 'Lily Hay Newman', 'title': 'Ransomware Hits Dozens of Hospitals in an Unprecedented Wave', 'description': 'As Covid-19 infections spike in many parts of the US, malware gangs are wreaking havoc on the health care system.', 'url': 'https://www.wired.com/story/ransomware-hospitals-ryuk-trickbot/', 'urlToImage': 'https://media.wired.com/photos/5f9ad8528239757e365803c2/191:100/w_1280,c_limit/Sec_medicalhack_GWFD5A.jpg', 'publishedAt': '2020-10-29T19:17:08Z', 'content': 'A fresh wave of ransomware attacks has struck almost two dozen United States hospitals and health care organizations in recent weeks, just as Covid-19 cases spike across the US. According to US intel… [+4083 chars]'}, {'source': {'id': None, 'name': 'Lifehacker.com'}, 'author': 'Elizabeth Yuko', 'title': 'How Air Travel Has Changed During COVID-19, According to The Points Guy', 'description': 'Air travel has changed a lot during the pandemic, according to Brian Kelly, better known as The Points Guy, the CEO and founder of the travel website of the same name. Between travel restrictions, airlines cutting down on routes and the number of flights, and…', 'url': 'https://lifehacker.com/how-air-travel-has-changed-during-covid-19-according-t-1845407165', 'urlToImage': 'https://i.kinja-img.com/gawker-media/image/upload/c_fill,f_auto,fl_progressive,g_center,h_675,pg_1,q_80,w_1200/rqsdkopqg3ik3a3bu92e.jpg', 'publishedAt': '2020-10-19T13:00:00Z', 'content': 'Air travel has changed a lot during the pandemic, according to Brian Kelly, better known as The Points Guy, the CEO and founder of the travel website of the same name. Between travel restrictions, ai… [+4287 chars]'}, {'source': {'id': 'the-verge', 'name': 'The Verge'}, 'author': 'Nicole Wetsman', 'title': 'When senior citizens are the early adopters', 'description': 'Many senior living facilities use location tracking devices to monitor residents. During the coronavirus pandemic, they started to use them for COVID-19 contact tracing.', 'url': 'https://www.theverge.com/21509117/contact-tracing-apps-digital-senior-nursing-homes', 'urlToImage': 'https://cdn.vox-cdn.com/thumbor/XwA8TGk6uX9d4nrZ-ZXJAFUu380=/0x6:2040x1074/fit-in/1200x630/cdn.vox-cdn.com/uploads/chorus_asset/file/21959622/acastro_201014_4240_00012.0.jpg', 'publishedAt': '2020-10-15T13:00:00Z', 'content': 'Illustration by Alex Castro / The Verge\\n\\n\\n Digital contact tracing wasn’t up for debate in senior living facilities Steve Kasch’s mom, Julia, was always worried about losing her keys. “She wasn’t eve… [+21305 chars]'}, {'source': {'id': 'bbc-news', 'name': 'BBC News'}, 'author': 'https://www.facebook.com/bbcnews', 'title': 'Covid-19: Austria and Portugal announce restrictions', 'description': 'A number of European countries are enforcing new measures as cases continue to rise.', 'url': 'https://www.bbc.co.uk/news/world-europe-54766184', 'urlToImage': 'https://ichef.bbci.co.uk/news/1024/branded_news/14BDC/production/_115165948_6f89babb-f072-4b7e-b779-f23084c82a97.jpg', 'publishedAt': '2020-10-31T22:55:05Z', 'content': 'image captionPortugal announced new restrictions on Saturday\\r\\nAustria and Portugal have announced new restrictions in an attempt to curb the spread of coronavirus. \\r\\nIn Austria, the restrictions incl… [+4320 chars]'}, {'source': {'id': 'wired', 'name': 'Wired'}, 'author': 'Kalen Goodluck', 'title': 'Covid is Strengthening the Push for Indigenous Data Control', 'description': 'Due to data control concerns, tribal nations are not part of the \"All of Us\" DNA collection program. But that means missing out on its Covid-19 antibody testing.', 'url': 'https://www.wired.com/story/covid-is-strengthening-the-push-for-indigenous-data-control/', 'urlToImage': 'https://media.wired.com/photos/5f80e3acd1e0e23e322a1552/191:100/w_1280,c_limit/dna-indigenous-data-615309290.jpg', 'publishedAt': '2020-10-10T12:00:00Z', 'content': 'This story originally appeared on High Country News and is part of the Climate Desk collaboration.\\r\\nAs US government scientists work to understand how Covid-19 affects the human body, tribal nations … [+3883 chars]'}, {'source': {'id': 'cnn', 'name': 'CNN'}, 'author': 'Analysis by Chris Cillizza, CNN Editor-at-large', 'title': \"Analysis: Trump's latest false Covid-19 promise\", 'description': \"In the waning days of his reelection campaign, President Donald Trump is writing Covid-19 checks that his administration can't cash.\", 'url': 'https://www.cnn.com/2020/10/29/politics/donald-trump-covid-false-promise/index.html', 'urlToImage': 'https://cdn.cnn.com/cnnnext/dam/assets/201029164424-01-trump-florida-1029-super-tease.jpg', 'publishedAt': '2020-10-29T22:30:37Z', 'content': 'THE POINT -- NOW ON YOUTUBE! \\r\\nIn each episode of his weekly YouTube show, Chris Cillizza will delve a little deeper into the surreal world of politics. Click to subscribe!'}, {'source': {'id': None, 'name': 'Gizmodo.com'}, 'author': 'Ed Cara', 'title': 'Eli Lilly Pauses Covid-19 Antibody Trial Over Safety Concerns', 'description': 'Pharmaceutical company Eli Lilly is the latest to temporarily halt one of its covid-19 clinical trials. The Phase III trial, involving an experimental antibody treatment for patients with the viral illness and sponsored by the federal government, was paused d…', 'url': 'https://gizmodo.com/eli-lilly-pauses-covid-19-antibody-trial-over-safety-co-1845360983', 'urlToImage': 'https://i.kinja-img.com/gawker-media/image/upload/c_fill,f_auto,fl_progressive,g_center,h_675,pg_1,q_80,w_1200/yjgisjzxxoy2hvd4mrma.jpg', 'publishedAt': '2020-10-13T19:27:00Z', 'content': 'Pharmaceutical company Eli Lilly is the latest to temporarily halt one of its covid-19 clinical trials. The Phase III trial, involving an experimental antibody treatment for patients with the viral i… [+2248 chars]'}, {'source': {'id': None, 'name': 'Gizmodo.com'}, 'author': 'Ed Cara', 'title': \"How Last Year's Pandemic Simulation Foreshadowed Covid-19\", 'description': 'One year ago, at the last minute, I decided to attend a presentation held by the Johns Hopkins Center for Health Security at a Manhattan hotel facing Central Park. Epidemiologists, economists, and other public health experts ran a simulation of what a realist…', 'url': 'https://gizmodo.com/how-last-years-pandemic-simulation-foreshadowed-covid-1-1845484059', 'urlToImage': 'https://i.kinja-img.com/gawker-media/image/upload/c_fill,f_auto,fl_progressive,g_center,h_675,pg_1,q_80,w_1200/yrbviccc55loolnt48di.jpg', 'publishedAt': '2020-10-26T20:47:00Z', 'content': 'One year ago, at the last minute, I decided to attend a presentation held by the Johns Hopkins Center for Health Security at a Manhattan hotel facing Central Park. Epidemiologists, economists, and ot… [+5508 chars]'}, {'source': {'id': None, 'name': 'Gizmodo.com'}, 'author': 'Jody Serrano', 'title': 'Researchers Create 30-Second Phlegm Test to Detect Covid-19', 'description': 'Science is moving at a rapid pace to respond to the novel coronavirus pandemic. In recent months, researchers have developed tests to detect covid-19, the disease caused by the virus, using different substances such as saliva. Now, there’s apparently another …', 'url': 'https://gizmodo.com/researchers-create-30-second-phlegm-test-to-detect-covi-1845479163', 'urlToImage': 'https://i.kinja-img.com/gawker-media/image/upload/c_fill,f_auto,fl_progressive,g_center,h_675,pg_1,q_80,w_1200/bncktmn6g7fqqv8y2fcd.jpg', 'publishedAt': '2020-10-26T00:57:00Z', 'content': 'Science is moving at a rapid pace to respond to the novel coronavirus pandemic. In recent months, researchers have developed tests to detect covid-19, the disease caused by the virus, using different… [+3895 chars]'}, {'source': {'id': None, 'name': 'New York Times'}, 'author': 'Margaret Renkl', 'title': 'Fighting Covid-19, With Dolly Parton and The Rock', 'description': 'Nothing says Peak 2020 like donating antibodies while watching someone get married on your phone.', 'url': 'https://www.nytimes.com/2020/10/26/opinion/covid-plasma-treatment-dolly-parton.html', 'urlToImage': 'https://static01.nyt.com/images/2020/10/27/opinion/27renklNew/27renklNew-facebookJumbo.jpg', 'publishedAt': '2020-10-26T09:00:14Z', 'content': 'Allison P. Wheeler is an assistant professor of pathology, microbiology and immunology at Vanderbilt and one of the principal investigators of a convalescent plasma trial at Vanderbilt that was launc… [+3319 chars]'}, {'source': {'id': None, 'name': 'New York Times'}, 'author': 'Ben Kenigsberg', 'title': '‘Totally Under Control’ Review: In the Middle of a Pandemic Response', 'description': 'Alex Gibney’s film arrives early in an inevitable wave of Covid-19 documentaries.', 'url': 'https://www.nytimes.com/2020/10/13/movies/totally-under-control-review.html', 'urlToImage': 'https://static01.nyt.com/images/2020/10/12/arts/totally1/totally1-facebookJumbo.jpg', 'publishedAt': '2020-10-13T11:00:02Z', 'content': 'The New York Times reporter Michael D. Shear, who himself tested positive for the coronavirus on Oct. 2, summarizes the conflicting messages offered by the Trump administrations medical experts and e… [+949 chars]'}, {'source': {'id': None, 'name': 'New York Times'}, 'author': 'Josephine Wolff', 'title': 'How Ransomware Puts Your Hospital at Risk', 'description': 'In the midst of the Covid-19 pandemic, the potential consequences of cyberattacks are terrifying.', 'url': 'https://www.nytimes.com/2020/10/17/opinion/hospital-internet-security-ransomware.html', 'urlToImage': 'https://static01.nyt.com/images/2020/10/17/opinion/17wolff/17wolff-facebookJumbo.jpg', 'publishedAt': '2020-10-17T15:00:06Z', 'content': 'Cyberattacks can even prove fatal: Last month, a woman in Germany in a life-threatening condition died when a Düsseldorf hospital was unable to admit her because it was experiencing a ransomware atta… [+2774 chars]'}]}\n"
          ],
          "name": "stdout"
        }
      ]
    },
    {
      "cell_type": "code",
      "metadata": {
        "id": "eZjKCGiVI8fp"
      },
      "source": [
        "#resources page - googleplaces api to find nearest hospitals\n",
        "# user will input their latitude and longitude\n",
        "\n",
        "#currently an error since this is a paid api off google cloud platform\n",
        "\n",
        "!pip install python-google-places\n",
        "!pip install requests\n",
        "\n",
        "from googleplaces import GooglePlaces, types, lang \n",
        "import requests \n",
        "import json  \n",
        "\n",
        "API_KEY = ''\n",
        "\n",
        "google_places = GooglePlaces(API_KEY)\n",
        "\n",
        "query_result = google_places.nearby_search(\n",
        "    lat_lng = {'lat': 28.4089, 'lng': 77.3178},\n",
        "    radius = 100,\n",
        "    types =[types.TYPE_HOSPITAL])\n",
        "\n",
        "if query.result.has.attributions:\n",
        "  print(query.result.html_attributions)\n",
        "\n",
        "for place in query_result.places:  \n",
        "    print (place.name) \n",
        "    print(\"Latitude\", place.geo_location['lat']) \n",
        "    print(\"Longitude\", place.geo_location['lng']) \n",
        "    print() \n"
      ],
      "execution_count": null,
      "outputs": []
    }
  ]
}
