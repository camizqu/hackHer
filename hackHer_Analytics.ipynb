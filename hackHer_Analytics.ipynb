{
  "nbformat": 4,
  "nbformat_minor": 0,
  "metadata": {
    "colab": {
      "name": "hackHer - Analytics.ipynb",
      "provenance": [],
      "collapsed_sections": [],
      "toc_visible": true,
      "include_colab_link": true
    },
    "kernelspec": {
      "name": "python3",
      "display_name": "Python 3"
    }
  },
  "cells": [
    {
      "cell_type": "markdown",
      "metadata": {
        "id": "view-in-github",
        "colab_type": "text"
      },
      "source": [
        "<a href=\"https://colab.research.google.com/github/camizqu/hackHer/blob/main/hackHer_Analytics.ipynb\" target=\"_parent\"><img src=\"https://colab.research.google.com/assets/colab-badge.svg\" alt=\"Open In Colab\"/></a>"
      ]
    },
    {
      "cell_type": "markdown",
      "metadata": {
        "id": "2yECfiFKmDVa"
      },
      "source": [
        "# Analytics Page\n",
        "\n",
        "Provides user analytics in two ways.\n",
        "A line graph for heartrate, weight, blood oxygen level, and temperature.\n",
        "Statements for coughing, sneezing, and headache symptoms.\n"
      ]
    },
    {
      "cell_type": "code",
      "metadata": {
        "id": "xYeahay1_CeG"
      },
      "source": [
        "# take input for heartrate, temperature, blood oxygen, and weight, and match\n",
        "import sys\n",
        "\n",
        "def main():\n",
        "  heartrate = int(input(\"Enter your current heartrate:\"))\n",
        "  matchHR(heartrate)\n",
        "\n",
        "  temperature = int(input(\"Enter your temperature in celsius: \"))\n",
        "  matchTemp(temperature)\n",
        "\n",
        "  bloodoxy = int(input (\"Enter your blood oxygen level: \"))\n",
        "  matchBO(bloodoxy)\n",
        "\n",
        "  weight1 = int(input(\"Enter your weight one week ago: \"))\n",
        "  weight2 = int(input(\"Enter your weight today: \"))\n",
        "  evalWeight (weight1, weight2)\n",
        "\n",
        "def matchHR(heartrate):\n",
        "  if (heartrate >= 100):\n",
        "    print ('High heart rate')\n",
        "  elif (heartrate < 100 and heartrate >= 60):\n",
        "      print ('Moderate heart rate')\n",
        "  elif (heartrate < 60):\n",
        "      print ('Extremely low HR')\n",
        "\n",
        "def matchTemp(temperature):\n",
        "  if (temperature > 38):\n",
        "    print(\"High Temperature\")\n",
        "  elif (temperature < 38):\n",
        "    print (\"OK Temperature\")\n",
        "\n",
        "def matchBO(bloodoxy):\n",
        " if (bloodoxy > 95):\n",
        "   print(\"Good level\")\n",
        " elif (bloodoxy < 95):\n",
        "  print(\"Not good\")\n",
        "\n",
        "def evalWeight(weight1, weight2):\n",
        "    if (weight1-weight2 >2 ):\n",
        "      print (\"Unhealthy weight loss\")\n",
        "    elif (weight1-weight2 < 2):\n",
        "      print (\"Healthy weight loss\")\n",
        "\n",
        "main()\n",
        "  "
      ],
      "execution_count": null,
      "outputs": []
    },
    {
      "cell_type": "code",
      "metadata": {
        "id": "-RFKyDEpjGEp"
      },
      "source": [
        "#shows the evalution of weekly user inputs using an excel sheet\n",
        "import xlrd\n",
        "import pandas as pd\n",
        "import numpy as np\n",
        "import matplotlib.pyplot as plt\n",
        "\n",
        "\n",
        "#reading excel in\n",
        "df = pd.read_excel('testgraph.xlsx')\n",
        "\n",
        "#making a multi-line graph dependent on the row values of the excel values\n",
        "row = df.loc[[0]]\n",
        "row.plot(kind='line')\n",
        "\n",
        "#setting limits\n",
        "plt.xlim(1,7)\n",
        "plt.ylim (40,150)\n"
      ],
      "execution_count": null,
      "outputs": []
    },
    {
      "cell_type": "code",
      "metadata": {
        "id": "iwNoAkd1zr9V"
      },
      "source": [
        "#second analytics portion, this would be taken everyday for a week \n",
        "\n",
        "import sys\n",
        "\n",
        "def main():\n",
        "  cough = int(input(\"On a scale of 1 to 10, enter the frequency of your coughing: \"))\n",
        "  checkError(cough)\n",
        "\n",
        "  headache = int(input(\"On a scale of 1 to 10, enter the frequency of your headache: \"))\n",
        "  checkError(headache)\n",
        "  \n",
        "  fatigue = int(input(\"On a scale of 1 to 10, enter your level of fatigue: \"))\n",
        "  checkError(fatigue)\n",
        "\n",
        "  joint = int(input(\"On a scale of 1 to 10, enter the severity of your joint pain: \"))\n",
        "  checkError(joint)\n",
        "\n",
        "\n",
        "  score = (headache + cough + joint + fatigue) / 4\n",
        "  print(\"average score: \" + str(score))\n",
        "  assignscore(score)\n",
        "\n",
        "def checkError(badThing):\n",
        "  if (badThing < 1 or badThing > 10 ):\n",
        "    sys.exit(\"Value entered must be between 1 and 10\")\n",
        "\n",
        "def assignscore(score):\n",
        "  if (score > 8):\n",
        "      print(\"You areunhealthy\")\n",
        "  elif (score > 5):\n",
        "      print(\"Your health is OK\")\n",
        "  else:\n",
        "      print(\"You are healthy\")\n",
        "\n",
        "main()"
      ],
      "execution_count": null,
      "outputs": []
    },
    {
      "cell_type": "code",
      "metadata": {
        "id": "lrggoErCPMub"
      },
      "source": [
        "import xlrd\n",
        "import pandas as pd\n",
        "import numpy as np\n",
        "\n",
        "df1 = pd.read_excel('teststmts.xlsx')\n",
        "#this portion has arbitrary values that simulate the weekly user input (using an excel sheet)\n",
        "#returns weekly statements that average the user's symptoms\n",
        "\n",
        "def weekly():\n",
        "\n",
        "  # for coughing \n",
        "  totalC = df1['Cough'].sum()\n",
        "  avgC = totalC/7\n",
        "  if (avgC >5):\n",
        "    print (\"You've reported a lot of coughing this week\")\n",
        "  else:\n",
        "    print (\"Your coughing has been normal this week\")\n",
        "\n",
        "  #for headache\n",
        "  totalH = df1['Headache'].sum()\n",
        "  avgH = totalH/7\n",
        "  if (avgH >5):\n",
        "    print (\"You've experienced very strong headaches this week\")\n",
        "  else:\n",
        "    print (\"You've experienced normal headaches this week\")\n",
        "\n",
        "  #for fatigue\n",
        "  totalF = df1['Fatigue'].sum()\n",
        "  avgF = totalF/7\n",
        "  if (avgF >5):\n",
        "    print (\"You've experienced a lot of fatigue this week\")\n",
        "  else:\n",
        "    print (\"You've experienced a normal amount of fatigue this week\")\n",
        "\n",
        "  # for joint pain\n",
        "  totalJ = df1['Joint Pain'].sum()\n",
        "  avgJ = totalJ/7\n",
        "  if (avgJ >8):\n",
        "    print (\"You've experienced a lot of joint pain this week\")\n",
        "  else:\n",
        "    print (\"You've experienced normal joint pain this week\")\n",
        "\n",
        "\n",
        "weekly()"
      ],
      "execution_count": null,
      "outputs": []
    }
  ]
}